{
 "cells": [
  {
   "cell_type": "code",
   "execution_count": 2,
   "id": "1d91a808",
   "metadata": {},
   "outputs": [
    {
     "name": "stdout",
     "output_type": "stream",
     "text": [
      "Requirement already satisfied: requests in c:\\users\\pujan jesal shah\\anaconda3\\lib\\site-packages (2.26.0)\n",
      "Requirement already satisfied: urllib3<1.27,>=1.21.1 in c:\\users\\pujan jesal shah\\anaconda3\\lib\\site-packages (from requests) (1.26.7)\n",
      "Requirement already satisfied: certifi>=2017.4.17 in c:\\users\\pujan jesal shah\\anaconda3\\lib\\site-packages (from requests) (2021.10.8)\n",
      "Requirement already satisfied: charset-normalizer~=2.0.0 in c:\\users\\pujan jesal shah\\anaconda3\\lib\\site-packages (from requests) (2.0.4)\n",
      "Requirement already satisfied: idna<4,>=2.5 in c:\\users\\pujan jesal shah\\anaconda3\\lib\\site-packages (from requests) (3.2)\n",
      "Note: you may need to restart the kernel to use updated packages.\n"
     ]
    }
   ],
   "source": [
    "pip install requests\n"
   ]
  },
  {
   "cell_type": "code",
   "execution_count": 3,
   "id": "6fcf318b",
   "metadata": {},
   "outputs": [
    {
     "name": "stdout",
     "output_type": "stream",
     "text": [
      "Requirement already satisfied: lxml in c:\\users\\pujan jesal shah\\anaconda3\\lib\\site-packages (4.6.3)\n",
      "Note: you may need to restart the kernel to use updated packages.\n"
     ]
    }
   ],
   "source": [
    "pip install lxml"
   ]
  },
  {
   "cell_type": "code",
   "execution_count": 4,
   "id": "93b566ee",
   "metadata": {},
   "outputs": [
    {
     "name": "stdout",
     "output_type": "stream",
     "text": [
      "Collecting bs4\n",
      "  Downloading bs4-0.0.1.tar.gz (1.1 kB)\n",
      "Requirement already satisfied: beautifulsoup4 in c:\\users\\pujan jesal shah\\anaconda3\\lib\\site-packages (from bs4) (4.10.0)\n",
      "Requirement already satisfied: soupsieve>1.2 in c:\\users\\pujan jesal shah\\anaconda3\\lib\\site-packages (from beautifulsoup4->bs4) (2.2.1)\n",
      "Building wheels for collected packages: bs4\n",
      "  Building wheel for bs4 (setup.py): started\n",
      "  Building wheel for bs4 (setup.py): finished with status 'done'\n",
      "  Created wheel for bs4: filename=bs4-0.0.1-py3-none-any.whl size=1271 sha256=e4f354ee1d2281f0692b4af5a9fb348851f2e0e9e5cd50722b00e1c3714e0f91\n",
      "  Stored in directory: c:\\users\\pujan jesal shah\\appdata\\local\\pip\\cache\\wheels\\73\\2b\\cb\\099980278a0c9a3e57ff1a89875ec07bfa0b6fcbebb9a8cad3\n",
      "Successfully built bs4\n",
      "Installing collected packages: bs4\n",
      "Successfully installed bs4-0.0.1\n",
      "Note: you may need to restart the kernel to use updated packages.\n"
     ]
    }
   ],
   "source": [
    "pip install bs4"
   ]
  },
  {
   "cell_type": "code",
   "execution_count": 12,
   "id": "f9f5f10e",
   "metadata": {},
   "outputs": [
    {
     "name": "stdout",
     "output_type": "stream",
     "text": [
      "Collecting html-table-parser-python3Note: you may need to restart the kernel to use updated packages.\n",
      "\n",
      "  Downloading html_table_parser_python3-0.2.0-py3-none-any.whl (15 kB)\n",
      "Installing collected packages: html-table-parser-python3\n",
      "Successfully installed html-table-parser-python3-0.2.0\n"
     ]
    }
   ],
   "source": [
    "pip install html-table-parser-python3"
   ]
  },
  {
   "cell_type": "code",
   "execution_count": 14,
   "id": "9759980e",
   "metadata": {},
   "outputs": [
    {
     "name": "stdout",
     "output_type": "stream",
     "text": [
      "[['BUY', 'SELL'],\n",
      " ['QTY', 'PRICE', 'PRICE', 'QTY'],\n",
      " ['20', '2728.75', '2729.70', '55'],\n",
      " ['20', '2728.45', '2730.00', '112'],\n",
      " ['3', '2728.20', '2730.10', '62'],\n",
      " ['20', '2728.15', '2730.15', '29'],\n",
      " ['38', '2728.00', '2730.25', '1'],\n",
      " ['27814', 'Total', 'Total', '34706']]\n",
      "\n",
      "\n",
      "PANDAS DATAFRAME\n",
      "\n",
      "       0        1        2      3\n",
      "0    BUY     SELL     None   None\n",
      "1    QTY    PRICE    PRICE    QTY\n",
      "2     20  2728.75  2729.70     55\n",
      "3     20  2728.45  2730.00    112\n",
      "4      3  2728.20  2730.10     62\n",
      "5     20  2728.15  2730.15     29\n",
      "6     38  2728.00  2730.25      1\n",
      "7  27814    Total    Total  34706\n"
     ]
    }
   ],
   "source": [
    "import urllib.request\n",
    " \n",
    "\n",
    "from pprint import pprint\n",
    "\n",
    "from html_table_parser.parser import HTMLTableParser\n",
    " \n",
    "\n",
    "import pandas as pd\n",
    " \n",
    " \n",
    "\n",
    " def url_get_contents(url):\n",
    " \n",
    " \n",
    "    \n",
    "    req = urllib.request.Request(url=url)\n",
    "    f = urllib.request.urlopen(req)\n",
    " \n",
    "   \n",
    "    return f.read()\n",
    " \n",
    "\n",
    "xhtml = url_get_contents('https://www.moneycontrol.com/india\\\n",
    "/stockpricequote/refineries/relianceindustries/RI').decode('utf-8')\n",
    " \n",
    "\n",
    "p = HTMLTableParser()\n",
    " \n",
    "\n",
    "p.feed(xhtml)\n",
    " \n",
    "\n",
    "pprint(p.tables[1])\n",
    " \n",
    "# converting the parsed data to\n",
    "# dataframe\n",
    "print(\"\\n\\nPANDAS DATAFRAME\\n\")\n",
    "print(pd.DataFrame(p.tables[1]))\n",
    "df_data = pd.DataFrame(p.tables[1])"
   ]
  },
  {
   "cell_type": "code",
   "execution_count": 34,
   "id": "44d3dd12",
   "metadata": {},
   "outputs": [],
   "source": [
    "df_data.to_excel(\"converted-to-excel.xlsx\")\n"
   ]
  },
  {
   "cell_type": "code",
   "execution_count": 40,
   "id": "861ead43",
   "metadata": {},
   "outputs": [
    {
     "data": {
      "text/html": [
       "<div>\n",
       "<style scoped>\n",
       "    .dataframe tbody tr th:only-of-type {\n",
       "        vertical-align: middle;\n",
       "    }\n",
       "\n",
       "    .dataframe tbody tr th {\n",
       "        vertical-align: top;\n",
       "    }\n",
       "\n",
       "    .dataframe thead th {\n",
       "        text-align: right;\n",
       "    }\n",
       "</style>\n",
       "<table border=\"1\" class=\"dataframe\">\n",
       "  <thead>\n",
       "    <tr style=\"text-align: right;\">\n",
       "      <th></th>\n",
       "      <th>Buy</th>\n",
       "      <th>Sell</th>\n",
       "      <th>None</th>\n",
       "      <th>None</th>\n",
       "    </tr>\n",
       "  </thead>\n",
       "  <tbody>\n",
       "    <tr>\n",
       "      <th>0</th>\n",
       "      <td>BUY</td>\n",
       "      <td>SELL</td>\n",
       "      <td>None</td>\n",
       "      <td>None</td>\n",
       "    </tr>\n",
       "    <tr>\n",
       "      <th>1</th>\n",
       "      <td>QTY</td>\n",
       "      <td>PRICE</td>\n",
       "      <td>PRICE</td>\n",
       "      <td>QTY</td>\n",
       "    </tr>\n",
       "    <tr>\n",
       "      <th>2</th>\n",
       "      <td>20</td>\n",
       "      <td>2728.75</td>\n",
       "      <td>2729.70</td>\n",
       "      <td>55</td>\n",
       "    </tr>\n",
       "    <tr>\n",
       "      <th>3</th>\n",
       "      <td>20</td>\n",
       "      <td>2728.45</td>\n",
       "      <td>2730.00</td>\n",
       "      <td>112</td>\n",
       "    </tr>\n",
       "    <tr>\n",
       "      <th>4</th>\n",
       "      <td>3</td>\n",
       "      <td>2728.20</td>\n",
       "      <td>2730.10</td>\n",
       "      <td>62</td>\n",
       "    </tr>\n",
       "    <tr>\n",
       "      <th>5</th>\n",
       "      <td>20</td>\n",
       "      <td>2728.15</td>\n",
       "      <td>2730.15</td>\n",
       "      <td>29</td>\n",
       "    </tr>\n",
       "    <tr>\n",
       "      <th>6</th>\n",
       "      <td>38</td>\n",
       "      <td>2728.00</td>\n",
       "      <td>2730.25</td>\n",
       "      <td>1</td>\n",
       "    </tr>\n",
       "    <tr>\n",
       "      <th>7</th>\n",
       "      <td>27814</td>\n",
       "      <td>Total</td>\n",
       "      <td>Total</td>\n",
       "      <td>34706</td>\n",
       "    </tr>\n",
       "  </tbody>\n",
       "</table>\n",
       "</div>"
      ],
      "text/plain": [
       "     Buy     Sell     None   None\n",
       "0    BUY     SELL     None   None\n",
       "1    QTY    PRICE    PRICE    QTY\n",
       "2     20  2728.75  2729.70     55\n",
       "3     20  2728.45  2730.00    112\n",
       "4      3  2728.20  2730.10     62\n",
       "5     20  2728.15  2730.15     29\n",
       "6     38  2728.00  2730.25      1\n",
       "7  27814    Total    Total  34706"
      ]
     },
     "execution_count": 40,
     "metadata": {},
     "output_type": "execute_result"
    }
   ],
   "source": [
    "df_data"
   ]
  },
  {
   "cell_type": "code",
   "execution_count": null,
   "id": "ea3a283a",
   "metadata": {},
   "outputs": [],
   "source": []
  },
  {
   "cell_type": "code",
   "execution_count": 27,
   "id": "7663cbe5",
   "metadata": {},
   "outputs": [
    {
     "name": "stdout",
     "output_type": "stream",
     "text": [
      "Requirement already satisfied: openpyxl in c:\\users\\pujan jesal shah\\anaconda3\\lib\\site-packages (3.0.9)Note: you may need to restart the kernel to use updated packages.\n",
      "\n",
      "Requirement already satisfied: et-xmlfile in c:\\users\\pujan jesal shah\\anaconda3\\lib\\site-packages (from openpyxl) (1.1.0)\n"
     ]
    }
   ],
   "source": [
    "pip install openpyxl"
   ]
  },
  {
   "cell_type": "code",
   "execution_count": 11,
   "id": "d14c1013",
   "metadata": {},
   "outputs": [
    {
     "name": "stdout",
     "output_type": "stream",
     "text": [
      "1. Voltas 1 Ton 5 Star Window AC (Copper, 125 DY/125 DZA, White)\n",
      "best inverter ac in India\n"
     ]
    }
   ],
   "source": []
  }
 ],
 "metadata": {
  "kernelspec": {
   "display_name": "Python 3 (ipykernel)",
   "language": "python",
   "name": "python3"
  },
  "language_info": {
   "codemirror_mode": {
    "name": "ipython",
    "version": 3
   },
   "file_extension": ".py",
   "mimetype": "text/x-python",
   "name": "python",
   "nbconvert_exporter": "python",
   "pygments_lexer": "ipython3",
   "version": "3.9.7"
  }
 },
 "nbformat": 4,
 "nbformat_minor": 5
}
